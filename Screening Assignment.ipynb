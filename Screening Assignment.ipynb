{
 "cells": [
  {
   "cell_type": "markdown",
   "id": "eae789b7",
   "metadata": {},
   "source": [
    "# 1. Create a function in python to read the text file and replace specific content of the file."
   ]
  },
  {
   "cell_type": "code",
   "execution_count": 23,
   "id": "6c93675f",
   "metadata": {},
   "outputs": [],
   "source": [
    "# creating example.txt\n",
    "f = open('example.txt', 'w')\n",
    "f.write(\"This is a placement assignment\")\n",
    "f.close()"
   ]
  },
  {
   "cell_type": "code",
   "execution_count": 24,
   "id": "6b52d828",
   "metadata": {},
   "outputs": [],
   "source": [
    "# function to print/display file contents:\n",
    "def display_file(filename):\n",
    "    \"\"\"\n",
    "    function to print/display file contents\n",
    "    \"\"\"\n",
    "    try:\n",
    "        f = open(filename,'r')\n",
    "        print(f.read())\n",
    "        f.close()\n",
    "    except Exception as e:\n",
    "        print(\"ERROR - \",e)"
   ]
  },
  {
   "cell_type": "code",
   "execution_count": 25,
   "id": "0ccdcbc0",
   "metadata": {},
   "outputs": [
    {
     "name": "stdout",
     "output_type": "stream",
     "text": [
      "This is a placement assignment\n"
     ]
    }
   ],
   "source": [
    "# check example.txt\n",
    "display_file('example.txt')"
   ]
  },
  {
   "cell_type": "code",
   "execution_count": 18,
   "id": "2294a127",
   "metadata": {},
   "outputs": [],
   "source": [
    "# function in python to read the text file and replace specific content of the file\n",
    "def replace_content(filename, content_to_replace, replacement_content):\n",
    "    \"\"\"\n",
    "    Function replaces content from an existing file with new content\n",
    "    filename: name of existing file to be opened\n",
    "    content_to_replace: the string to be replaced from the file\n",
    "    replacement_content: the new string which replaced the old content\n",
    "    \"\"\"\n",
    "    \n",
    "    try:\n",
    "        f = open(filename, 'r+')\n",
    "        #read file line by line (List of lines)\n",
    "        lines = f.readlines()\n",
    "        \n",
    "        #replace the content in the list\n",
    "        index = 0\n",
    "        for content in lines:\n",
    "            if content_to_replace in content:\n",
    "                replacement = content.replace(content_to_replace,replacement_content)\n",
    "                lines[index] = replacement\n",
    "            else:\n",
    "                print(\"The content to be replaced is not present in the file\")\n",
    "            index+=1\n",
    "        \n",
    "        #erase existing file\n",
    "        f.truncate(0)\n",
    "        \n",
    "        #add the new list with replacements to the file\n",
    "        f.writelines(lines)\n",
    "        \n",
    "        f.close()\n",
    "    except Exception as e:\n",
    "        print(\"ERROR - \",e)\n",
    "                          "
   ]
  },
  {
   "cell_type": "code",
   "execution_count": 26,
   "id": "ad019b9c",
   "metadata": {},
   "outputs": [
    {
     "name": "stdout",
     "output_type": "stream",
     "text": [
      "Enter file name (example.txt): example.txt\n",
      "Enter the content to be replaced from the file: placement\n",
      "Enter the new replacement content: screening\n",
      "\n",
      "----------FILE CONTENTS BEFORE REPLACEMENT------------\n",
      "\n",
      "This is a placement assignment\n",
      "\n",
      "----------FILE CONTENTS AFTER REPLACEMENT------------\n",
      "\n",
      "\u0000\u0000\u0000\u0000\u0000\u0000\u0000\u0000\u0000\u0000\u0000\u0000\u0000\u0000\u0000\u0000\u0000\u0000\u0000\u0000\u0000\u0000\u0000\u0000\u0000\u0000\u0000\u0000\u0000\u0000This is a screening assignment\n"
     ]
    }
   ],
   "source": [
    "# Run the below code to get the output\n",
    "\n",
    "filename = input(\"Enter file name (example.txt): \")\n",
    "content_to_replace = input(\"Enter the content to be replaced from the file: \")\n",
    "replacement_content = input(\"Enter the new replacement content: \")\n",
    "\n",
    "print(\"\\n----------FILE CONTENTS BEFORE REPLACEMENT------------\\n\")\n",
    "display_file(filename)\n",
    "\n",
    "replace_content(filename,content_to_replace,replacement_content)\n",
    "\n",
    "print(\"\\n----------FILE CONTENTS AFTER REPLACEMENT-------------\\n\")\n",
    "display_file(filename)"
   ]
  },
  {
   "cell_type": "code",
   "execution_count": null,
   "id": "afe170a2",
   "metadata": {},
   "outputs": [],
   "source": []
  },
  {
   "cell_type": "markdown",
   "id": "96ca7f61",
   "metadata": {},
   "source": [
    "# 2. Demonstrate use of abstract class, multiple inheritance and decorator in python using examples."
   ]
  },
  {
   "cell_type": "markdown",
   "id": "43600c45",
   "metadata": {},
   "source": [
    "### Abstraction"
   ]
  },
  {
   "cell_type": "markdown",
   "id": "5af8194a",
   "metadata": {},
   "source": [
    "- Abstraction can be considered as a structure or blueprint or high level design to create modularity (template).\n",
    "- Abstract class contains one or more abstract methods\n",
    "- Abstract method has a declaration but does not have any implementation\n",
    "- We can use abstract classes when desgining large functional units\n",
    "- we can't create a object of abstract class"
   ]
  },
  {
   "cell_type": "code",
   "execution_count": 40,
   "id": "12af11f4",
   "metadata": {},
   "outputs": [],
   "source": [
    "#consider the following example\n",
    "\n",
    "class company:\n",
    "    \n",
    "    def company_details(self):\n",
    "        pass\n",
    "    \n",
    "    def company_type(self):\n",
    "        pass"
   ]
  },
  {
   "cell_type": "code",
   "execution_count": 41,
   "id": "c86d5b4d",
   "metadata": {},
   "outputs": [
    {
     "name": "stdout",
     "output_type": "stream",
     "text": [
      "SUCCESS\n"
     ]
    }
   ],
   "source": [
    "# the above example can be considered as a blueprint for designing an company record system\n",
    "# however the class is not yet abstract as we can still create objects for it\n",
    "\n",
    "c = company()\n",
    "c.company_details()\n",
    "print(\"SUCCESS\")"
   ]
  },
  {
   "cell_type": "markdown",
   "id": "d5ecb0ae",
   "metadata": {},
   "source": [
    "- For creating abstract classes we have to have abstract methods inside the class\n",
    "- For that purpose we have import the ABC (abstract base class) module, inherit ABC and use the @abstractmethod decorator ( **Inheritance** is the capability of one class / child class to derive or inherit the properties from another class / parent class )\n",
    "- Also once the class is made abstract, the class inheriting this abstract class must override the abstract methods / define all abstract methods present in abstract class else object creation not possible. "
   ]
  },
  {
   "cell_type": "code",
   "execution_count": null,
   "id": "c41fb574",
   "metadata": {},
   "outputs": [],
   "source": [
    "# Before we make the class abstract, let us understand decorators"
   ]
  },
  {
   "cell_type": "markdown",
   "id": "56485dbd",
   "metadata": {},
   "source": [
    "### Decorators\n",
    "- We use decorators when we need to change the behaviour of a function without modifying the function itself.\n",
    "- A decorator is a function that takes another function as its argument and returns yet another function.\n",
    "- @abstractmethod, @static are few examples of existing decorators "
   ]
  },
  {
   "cell_type": "code",
   "execution_count": 32,
   "id": "f29d33ff",
   "metadata": {},
   "outputs": [
    {
     "name": "stdout",
     "output_type": "stream",
     "text": [
      "This block of code executes before the passed function executes\n",
      "This is print_hello function\n",
      "This block of code executes after the passed function executes\n"
     ]
    }
   ],
   "source": [
    "# check this example to see how to decorator works\n",
    "\n",
    "def my_decorator(func):\n",
    "    def exec_func():\n",
    "        print(\"This block of code executes before the passed function executes\")\n",
    "        func()\n",
    "        print(\"This block of code executes after the passed function executes\")\n",
    "    return exec_func\n",
    "\n",
    "@my_decorator\n",
    "def print_hello():\n",
    "    print(\"This is print_hello function\")\n",
    "\n",
    "print_hello()"
   ]
  },
  {
   "cell_type": "code",
   "execution_count": null,
   "id": "2be0a148",
   "metadata": {},
   "outputs": [],
   "source": []
  },
  {
   "cell_type": "code",
   "execution_count": 54,
   "id": "9189c4ff",
   "metadata": {},
   "outputs": [],
   "source": [
    "# Back to abstract class example\n",
    "# For creating abstract classes we have to make the methods abstract and import the ABC (abstract base class) module\n",
    "# As we have seen decorators, @abstractmethod is similar decorator to make a method abstract\n",
    "\n",
    "from abc import ABC, abstractmethod\n",
    "\n",
    "class company(ABC):\n",
    "    \n",
    "    @abstractmethod\n",
    "    def company_details(self):\n",
    "        pass\n",
    "    \n",
    "    @abstractmethod\n",
    "    def company_type(self):\n",
    "        pass\n",
    "    \n",
    "    def total_company_employees(self):\n",
    "        print(\"total_company_employees\")\n",
    "\n",
    "# Now the class has been made abstract"
   ]
  },
  {
   "cell_type": "code",
   "execution_count": 55,
   "id": "0c4518a1",
   "metadata": {},
   "outputs": [
    {
     "ename": "TypeError",
     "evalue": "Can't instantiate abstract class department with abstract methods company_details, company_type",
     "output_type": "error",
     "traceback": [
      "\u001b[0;31m---------------------------------------------------------------------------\u001b[0m",
      "\u001b[0;31mTypeError\u001b[0m                                 Traceback (most recent call last)",
      "\u001b[0;32m<ipython-input-55-794ed006dea7>\u001b[0m in \u001b[0;36m<module>\u001b[0;34m\u001b[0m\n\u001b[1;32m      6\u001b[0m         \u001b[0mprint\u001b[0m\u001b[0;34m(\u001b[0m\u001b[0;34m\"department_name\"\u001b[0m\u001b[0;34m)\u001b[0m\u001b[0;34m\u001b[0m\u001b[0;34m\u001b[0m\u001b[0m\n\u001b[1;32m      7\u001b[0m \u001b[0;34m\u001b[0m\u001b[0m\n\u001b[0;32m----> 8\u001b[0;31m \u001b[0md\u001b[0m \u001b[0;34m=\u001b[0m \u001b[0mdepartment\u001b[0m\u001b[0;34m(\u001b[0m\u001b[0;34m)\u001b[0m\u001b[0;34m\u001b[0m\u001b[0;34m\u001b[0m\u001b[0m\n\u001b[0m",
      "\u001b[0;31mTypeError\u001b[0m: Can't instantiate abstract class department with abstract methods company_details, company_type"
     ]
    }
   ],
   "source": [
    "# Now if we inherit abstract class we have to override the abstract methods \n",
    "# else the child class object wont get created\n",
    "\n",
    "class department(company):\n",
    "    def department_name(self):\n",
    "        print(\"department_name\")\n",
    "\n",
    "d = department()"
   ]
  },
  {
   "cell_type": "code",
   "execution_count": 56,
   "id": "15c1f93f",
   "metadata": {},
   "outputs": [
    {
     "name": "stdout",
     "output_type": "stream",
     "text": [
      "company_details\n",
      "company_type\n",
      "department_name\n",
      "total_company_employees\n"
     ]
    }
   ],
   "source": [
    "# as we can see above, we get the expected error\n",
    "class department(company):\n",
    "    \n",
    "    def company_details(self):\n",
    "        print(\"company_details\")\n",
    "    \n",
    "    def company_type(self):\n",
    "        print(\"company_type\")\n",
    "    \n",
    "    def department_name(self):\n",
    "        print(\"department_name\")\n",
    "        \n",
    "\n",
    "d = department()\n",
    "d.company_details()\n",
    "d.company_type()\n",
    "d.department_name()\n",
    "d.total_company_employees()"
   ]
  },
  {
   "cell_type": "code",
   "execution_count": null,
   "id": "de7a2455",
   "metadata": {},
   "outputs": [],
   "source": []
  },
  {
   "cell_type": "markdown",
   "id": "f17c8eed",
   "metadata": {},
   "source": [
    "### Multiple Inheritance\n",
    "- We have seen inheritance in above example where 'department' class (child) inherited the properties of abstract class 'company' (parent)\n",
    "- Multiple inheritance is similar to inheritance with difference being that the child class can inherit properties from multiple parent classes"
   ]
  },
  {
   "cell_type": "code",
   "execution_count": 63,
   "id": "f1c95ce2",
   "metadata": {},
   "outputs": [],
   "source": [
    "# Below class inherits properties of both department as well as company class\n",
    "\n",
    "class employee(department,company):\n",
    "    def employee_details(self):\n",
    "        print(\"employee_details\")\n",
    "    \n",
    "    def employee_role(self):\n",
    "        print(\"employee_role\")\n",
    "    \n",
    "e = employee()"
   ]
  },
  {
   "cell_type": "code",
   "execution_count": 64,
   "id": "848d60f9",
   "metadata": {},
   "outputs": [
    {
     "name": "stdout",
     "output_type": "stream",
     "text": [
      "company_details\n",
      "company_type\n",
      "total_company_employees\n",
      "department_name\n",
      "employee_details\n",
      "employee_role\n"
     ]
    }
   ],
   "source": [
    "e.company_details()\n",
    "e.company_type()\n",
    "e.total_company_employees()\n",
    "e.department_name()\n",
    "e.employee_details()\n",
    "e.employee_role()"
   ]
  },
  {
   "cell_type": "code",
   "execution_count": null,
   "id": "edb8bdb6",
   "metadata": {},
   "outputs": [],
   "source": []
  }
 ],
 "metadata": {
  "kernelspec": {
   "display_name": "Python 3",
   "language": "python",
   "name": "python3"
  },
  "language_info": {
   "codemirror_mode": {
    "name": "ipython",
    "version": 3
   },
   "file_extension": ".py",
   "mimetype": "text/x-python",
   "name": "python",
   "nbconvert_exporter": "python",
   "pygments_lexer": "ipython3",
   "version": "3.7.12"
  }
 },
 "nbformat": 4,
 "nbformat_minor": 5
}
